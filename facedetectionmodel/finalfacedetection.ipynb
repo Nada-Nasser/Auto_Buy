{
  "nbformat": 4,
  "nbformat_minor": 0,
  "metadata": {
    "accelerator": "GPU",
    "colab": {
      "name": "finalfacedetection.ipynb",
      "provenance": [],
      "collapsed_sections": []
    },
    "kernelspec": {
      "display_name": "Python 3",
      "name": "python3"
    },
    "language_info": {
      "name": "python"
    }
  },
  "cells": [
    {
      "cell_type": "code",
      "metadata": {
        "id": "iwf5p9QhL39A"
      },
      "source": [
        "import cv2\n",
        "import numpy as np\n",
        "from google.colab.patches import cv2_imshow"
      ],
      "execution_count": null,
      "outputs": []
    },
    {
      "cell_type": "code",
      "metadata": {
        "id": "bN0x6MviL9xg",
        "colab": {
          "base_uri": "https://localhost:8080/"
        },
        "outputId": "85d4e79b-25c0-4882-941e-0be88a64da14"
      },
      "source": [
        "pip install face_recognition"
      ],
      "execution_count": null,
      "outputs": [
        {
          "output_type": "stream",
          "text": [
            "Requirement already satisfied: face_recognition in /usr/local/lib/python3.7/dist-packages (1.3.0)\n",
            "Requirement already satisfied: Pillow in /usr/local/lib/python3.7/dist-packages (from face_recognition) (7.1.2)\n",
            "Requirement already satisfied: numpy in /usr/local/lib/python3.7/dist-packages (from face_recognition) (1.19.5)\n",
            "Requirement already satisfied: face-recognition-models>=0.3.0 in /usr/local/lib/python3.7/dist-packages (from face_recognition) (0.3.0)\n",
            "Requirement already satisfied: dlib>=19.7 in /usr/local/lib/python3.7/dist-packages (from face_recognition) (19.18.0)\n",
            "Requirement already satisfied: Click>=6.0 in /usr/local/lib/python3.7/dist-packages (from face_recognition) (7.1.2)\n"
          ],
          "name": "stdout"
        }
      ]
    },
    {
      "cell_type": "code",
      "metadata": {
        "id": "C_ja-NRSMNNi"
      },
      "source": [
        "import face_recognition"
      ],
      "execution_count": null,
      "outputs": []
    },
    {
      "cell_type": "code",
      "metadata": {
        "id": "UcZL_oELMZhz"
      },
      "source": [
        "img_jo=face_recognition.load_image_file('jo2.jpg')"
      ],
      "execution_count": null,
      "outputs": []
    },
    {
      "cell_type": "code",
      "metadata": {
        "id": "yNlFH3pwNUK0"
      },
      "source": [
        "img_jo=cv2.cvtColor(img_jo,cv2.COLOR_BGR2RGB)"
      ],
      "execution_count": null,
      "outputs": []
    },
    {
      "cell_type": "code",
      "metadata": {
        "id": "fDh27P9FNk4F"
      },
      "source": [
        "faceloc=face_recognition.face_locations(img_jo)[0]"
      ],
      "execution_count": null,
      "outputs": []
    },
    {
      "cell_type": "code",
      "metadata": {
        "id": "2M8ofao9NxhG"
      },
      "source": [
        "faceencoding=face_recognition.face_encodings(img_jo)[0]"
      ],
      "execution_count": null,
      "outputs": []
    },
    {
      "cell_type": "code",
      "metadata": {
        "id": "6HuOB7TmOCWA"
      },
      "source": [
        "cv2.rectangle(img_jo,(faceloc[3],faceloc[0]),(faceloc[1],faceloc[2]),(255,0,255),2)"
      ],
      "execution_count": null,
      "outputs": []
    },
    {
      "cell_type": "code",
      "metadata": {
        "id": "Ad-tk3abPNol"
      },
      "source": [
        "img_test=face_recognition.load_image_file('test2.jpeg')"
      ],
      "execution_count": null,
      "outputs": []
    },
    {
      "cell_type": "code",
      "metadata": {
        "id": "2dwO5r-jPKC8"
      },
      "source": [
        "img_test=cv2.cvtColor(img_test,cv2.COLOR_BGR2RGB)"
      ],
      "execution_count": null,
      "outputs": []
    },
    {
      "cell_type": "code",
      "metadata": {
        "id": "MPAFj9_ZPQOd"
      },
      "source": [
        "faceloctest=face_recognition.face_locations(img_test)[0]"
      ],
      "execution_count": null,
      "outputs": []
    },
    {
      "cell_type": "code",
      "metadata": {
        "id": "NaDLqStjPThQ"
      },
      "source": [
        "faceencodingtest=face_recognition.face_encodings(img_test)[0]"
      ],
      "execution_count": null,
      "outputs": []
    },
    {
      "cell_type": "code",
      "metadata": {
        "id": "0Pq6ngj4PX8X"
      },
      "source": [
        "cv2.rectangle(img_test,(faceloc[3],faceloc[0]),(faceloc[1],faceloc[2]),(255,0,255),2)"
      ],
      "execution_count": null,
      "outputs": []
    },
    {
      "cell_type": "code",
      "metadata": {
        "id": "t8N8IelPOfRi"
      },
      "source": [
        "cv2_imshow(img_test)"
      ],
      "execution_count": null,
      "outputs": []
    },
    {
      "cell_type": "code",
      "metadata": {
        "colab": {
          "base_uri": "https://localhost:8080/"
        },
        "id": "HIk0qjPzOppV",
        "outputId": "f3a29eeb-9dbc-491c-d216-d1d7325057b8"
      },
      "source": [
        "results=face_recognition.compare_faces([faceencoding],faceencodingtest)\n",
        "print(results)\n",
        "if(results[0]==1):\n",
        "  print('jo')"
      ],
      "execution_count": null,
      "outputs": [
        {
          "output_type": "stream",
          "text": [
            "[True]\n",
            "jo\n"
          ],
          "name": "stdout"
        }
      ]
    },
    {
      "cell_type": "code",
      "metadata": {
        "id": "-zZNgj2APxSj",
        "colab": {
          "base_uri": "https://localhost:8080/"
        },
        "outputId": "49255d70-e78c-4384-f108-34c93d8b52b3"
      },
      "source": [
        "!pip install fastapi"
      ],
      "execution_count": null,
      "outputs": [
        {
          "output_type": "stream",
          "text": [
            "Collecting fastapi\n",
            "  Downloading fastapi-0.67.0-py3-none-any.whl (51 kB)\n",
            "\u001b[?25l\r\u001b[K     |██████▍                         | 10 kB 32.3 MB/s eta 0:00:01\r\u001b[K     |████████████▊                   | 20 kB 34.9 MB/s eta 0:00:01\r\u001b[K     |███████████████████             | 30 kB 38.7 MB/s eta 0:00:01\r\u001b[K     |█████████████████████████▍      | 40 kB 40.5 MB/s eta 0:00:01\r\u001b[K     |███████████████████████████████▊| 51 kB 42.4 MB/s eta 0:00:01\r\u001b[K     |████████████████████████████████| 51 kB 465 kB/s \n",
            "\u001b[?25hCollecting starlette==0.14.2\n",
            "  Downloading starlette-0.14.2-py3-none-any.whl (60 kB)\n",
            "\u001b[K     |████████████████████████████████| 60 kB 9.1 MB/s \n",
            "\u001b[?25hCollecting pydantic!=1.7,!=1.7.1,!=1.7.2,!=1.7.3,!=1.8,!=1.8.1,<2.0.0,>=1.6.2\n",
            "  Downloading pydantic-1.8.2-cp37-cp37m-manylinux2014_x86_64.whl (10.1 MB)\n",
            "\u001b[K     |████████████████████████████████| 10.1 MB 49.3 MB/s \n",
            "\u001b[?25hRequirement already satisfied: typing-extensions>=3.7.4.3 in /usr/local/lib/python3.7/dist-packages (from pydantic!=1.7,!=1.7.1,!=1.7.2,!=1.7.3,!=1.8,!=1.8.1,<2.0.0,>=1.6.2->fastapi) (3.7.4.3)\n",
            "Installing collected packages: starlette, pydantic, fastapi\n",
            "Successfully installed fastapi-0.67.0 pydantic-1.8.2 starlette-0.14.2\n"
          ],
          "name": "stdout"
        }
      ]
    },
    {
      "cell_type": "code",
      "metadata": {
        "id": "4gpT2BSHR-4Y",
        "colab": {
          "base_uri": "https://localhost:8080/"
        },
        "outputId": "218550a1-90e3-4607-82e7-4cd9a377df17"
      },
      "source": [
        "!pip install python-multipart"
      ],
      "execution_count": null,
      "outputs": [
        {
          "output_type": "stream",
          "text": [
            "Collecting python-multipart\n",
            "  Downloading python-multipart-0.0.5.tar.gz (32 kB)\n",
            "Requirement already satisfied: six>=1.4.0 in /usr/local/lib/python3.7/dist-packages (from python-multipart) (1.15.0)\n",
            "Building wheels for collected packages: python-multipart\n",
            "  Building wheel for python-multipart (setup.py) ... \u001b[?25l\u001b[?25hdone\n",
            "  Created wheel for python-multipart: filename=python_multipart-0.0.5-py3-none-any.whl size=31679 sha256=5b9fe56cd053c5a62c3f4c0b8344db3953db43d6a6162047e76a6ce822cc9531\n",
            "  Stored in directory: /root/.cache/pip/wheels/2c/41/7c/bfd1c180534ffdcc0972f78c5758f89881602175d48a8bcd2c\n",
            "Successfully built python-multipart\n",
            "Installing collected packages: python-multipart\n",
            "Successfully installed python-multipart-0.0.5\n"
          ],
          "name": "stdout"
        }
      ]
    },
    {
      "cell_type": "code",
      "metadata": {
        "id": "-Ju2DjjYSAUY"
      },
      "source": [
        "pip install colabcode"
      ],
      "execution_count": null,
      "outputs": []
    },
    {
      "cell_type": "code",
      "metadata": {
        "id": "J6-pagL7SC1a"
      },
      "source": [
        "from typing import List\n",
        "from PIL import Image\n",
        "from fastapi import APIRouter,Header,HTTPException,FastAPI, File, UploadFile,Request\n",
        "from colabcode import ColabCode\n",
        "from fastapi.middleware.cors import CORSMiddleware\n",
        "import base64\n",
        "import shutil\n",
        "router = APIRouter()\n",
        "app=FastAPI()\n",
        "app.add_middleware(\n",
        "    CORSMiddleware,\n",
        "    allow_origins=['*'],\n",
        "    allow_credentials=True,\n",
        "    allow_methods=[\"*\"],\n",
        "    allow_headers=[\"*\"],\n",
        ")\n",
        "@app.post(\"/\")\n",
        "async def upload_file(request:Request):\n",
        "  imgstr = await request.body()\n",
        "  imgdata = base64.decodestring(imgstr)\n",
        "  filename = 'test.jpg'\n",
        "  with open(filename, 'wb') as f:\n",
        "    f.write(imgdata)\n",
        "  png = Image.open('test.jpg')\n",
        "  png.load() # required for png.split()\n",
        "\n",
        "  background = Image.new(\"RGB\", png.size, (255, 255, 255))\n",
        "  background.paste(png, mask=png.split()[3]) # 3 is the alpha channel\n",
        "\n",
        "  background.save('test2.jpg', 'JPEG', quality=90)\n",
        "  img_test=face_recognition.load_image_file('test2.jpg')\n",
        "  img_test=cv2.cvtColor(img_test,cv2.COLOR_BGR2RGB)\n",
        "  faceloctest=face_recognition.face_locations(img_test)[0]\n",
        "  faceencodingtest=face_recognition.face_encodings(img_test)[0]\n",
        "  #cv2.rectangle(img_test,(faceloc[3],faceloc[0]),(faceloc[1],faceloc[2]),(255,0,255),2)\n",
        "  results=face_recognition.compare_faces([faceencoding],faceencodingtest)\n",
        "  if(results[0]==1):\n",
        "    return('jo')\n",
        "  else:\n",
        "    return('null')\n",
        "  \n",
        "  #with open('test.jpg',\"wb\") as buffer:\n",
        "    #shutil.copyfileobj(file.file,buffer)\n",
        "  #return {getuser('test.jpg')}\n",
        "\n"
      ],
      "execution_count": null,
      "outputs": []
    },
    {
      "cell_type": "code",
      "metadata": {
        "id": "oGmvbXv_Shkj"
      },
      "source": [
        "cc=ColabCode(port=12000,code=False)"
      ],
      "execution_count": null,
      "outputs": []
    },
    {
      "cell_type": "code",
      "metadata": {
        "colab": {
          "base_uri": "https://localhost:8080/"
        },
        "id": "NDflAeMiSkIG",
        "outputId": "91418474-0b3d-40ee-9b54-ae5b8790dbc1"
      },
      "source": [
        "cc.run_app(app=app)"
      ],
      "execution_count": null,
      "outputs": [
        {
          "output_type": "stream",
          "text": [
            "INFO:     Started server process [197]\n",
            "INFO:     Waiting for application startup.\n",
            "INFO:     Application startup complete.\n",
            "INFO:     Uvicorn running on http://127.0.0.1:12000 (Press CTRL+C to quit)\n"
          ],
          "name": "stderr"
        },
        {
          "output_type": "stream",
          "text": [
            "Public URL: NgrokTunnel: \"https://c34e9e07f21f.ngrok.io\" -> \"http://localhost:12000\"\n",
            "INFO:     156.208.243.181:0 - \"OPTIONS / HTTP/1.1\" 200 OK\n"
          ],
          "name": "stdout"
        },
        {
          "output_type": "stream",
          "text": [
            "/usr/local/lib/python3.7/dist-packages/ipykernel_launcher.py:20: DeprecationWarning: decodestring() is a deprecated alias since Python 3.1, use decodebytes()\n"
          ],
          "name": "stderr"
        },
        {
          "output_type": "stream",
          "text": [
            "INFO:     156.208.243.181:0 - \"POST / HTTP/1.1\" 200 OK\n",
            "INFO:     156.208.243.181:0 - \"OPTIONS / HTTP/1.1\" 200 OK\n",
            "INFO:     156.208.243.181:0 - \"POST / HTTP/1.1\" 200 OK\n",
            "INFO:     156.208.243.181:0 - \"OPTIONS / HTTP/1.1\" 200 OK\n",
            "INFO:     156.208.243.181:0 - \"POST / HTTP/1.1\" 200 OK\n",
            "INFO:     156.208.243.181:0 - \"OPTIONS / HTTP/1.1\" 200 OK\n",
            "INFO:     156.208.243.181:0 - \"POST / HTTP/1.1\" 200 OK\n"
          ],
          "name": "stdout"
        }
      ]
    },
    {
      "cell_type": "code",
      "metadata": {
        "id": "D2AjU3A3Smcz"
      },
      "source": [
        ""
      ],
      "execution_count": null,
      "outputs": []
    }
  ]
}